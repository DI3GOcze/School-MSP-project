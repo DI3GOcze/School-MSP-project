{
 "cells": [
  {
   "cell_type": "code",
   "execution_count": 40,
   "metadata": {},
   "outputs": [
    {
     "data": {
      "text/html": [
       "<div>\n",
       "<style scoped>\n",
       "    .dataframe tbody tr th:only-of-type {\n",
       "        vertical-align: middle;\n",
       "    }\n",
       "\n",
       "    .dataframe tbody tr th {\n",
       "        vertical-align: top;\n",
       "    }\n",
       "\n",
       "    .dataframe thead th {\n",
       "        text-align: right;\n",
       "    }\n",
       "</style>\n",
       "<table border=\"1\" class=\"dataframe\">\n",
       "  <thead>\n",
       "    <tr style=\"text-align: right;\">\n",
       "      <th></th>\n",
       "      <th>Praha</th>\n",
       "      <th>Brno</th>\n",
       "      <th>Znojmo</th>\n",
       "      <th>Tišnov</th>\n",
       "      <th>Rokytnice nad Jizerou</th>\n",
       "      <th>Jablunkov</th>\n",
       "      <th>Dolní Věstonice</th>\n",
       "      <th>Moje okolí</th>\n",
       "    </tr>\n",
       "  </thead>\n",
       "  <tbody>\n",
       "    <tr>\n",
       "      <th>Zimní čas</th>\n",
       "      <td>510</td>\n",
       "      <td>324</td>\n",
       "      <td>302</td>\n",
       "      <td>257</td>\n",
       "      <td>147</td>\n",
       "      <td>66</td>\n",
       "      <td>87</td>\n",
       "      <td>3</td>\n",
       "    </tr>\n",
       "    <tr>\n",
       "      <th>Letní čas</th>\n",
       "      <td>352</td>\n",
       "      <td>284</td>\n",
       "      <td>185</td>\n",
       "      <td>178</td>\n",
       "      <td>87</td>\n",
       "      <td>58</td>\n",
       "      <td>65</td>\n",
       "      <td>24</td>\n",
       "    </tr>\n",
       "    <tr>\n",
       "      <th>Střídání časů</th>\n",
       "      <td>257</td>\n",
       "      <td>178</td>\n",
       "      <td>124</td>\n",
       "      <td>78</td>\n",
       "      <td>44</td>\n",
       "      <td>33</td>\n",
       "      <td>31</td>\n",
       "      <td>18</td>\n",
       "    </tr>\n",
       "    <tr>\n",
       "      <th>Nemá názor</th>\n",
       "      <td>208</td>\n",
       "      <td>129</td>\n",
       "      <td>70</td>\n",
       "      <td>74</td>\n",
       "      <td>6</td>\n",
       "      <td>19</td>\n",
       "      <td>32</td>\n",
       "      <td>15</td>\n",
       "    </tr>\n",
       "  </tbody>\n",
       "</table>\n",
       "</div>"
      ],
      "text/plain": [
       "               Praha  Brno  Znojmo  Tišnov  Rokytnice nad Jizerou  Jablunkov  \\\n",
       "Zimní čas        510   324     302     257                    147         66   \n",
       "Letní čas        352   284     185     178                     87         58   \n",
       "Střídání časů    257   178     124      78                     44         33   \n",
       "Nemá názor       208   129      70      74                      6         19   \n",
       "\n",
       "               Dolní Věstonice  Moje okolí  \n",
       "Zimní čas                   87           3  \n",
       "Letní čas                   65          24  \n",
       "Střídání časů               31          18  \n",
       "Nemá názor                  32          15  "
      ]
     },
     "metadata": {},
     "output_type": "display_data"
    },
    {
     "name": "stdout",
     "output_type": "stream",
     "text": [
      "Počet respondentů: 4245\n",
      "\n",
      "Sumy řádků: \n",
      "Zimní čas        1696\n",
      "Letní čas        1233\n",
      "Střídání časů     763\n",
      "Nemá názor        553\n",
      "dtype: int64\n",
      "\n",
      "Sumy sloupců: \n",
      "Praha                    1327\n",
      "Brno                      915\n",
      "Znojmo                    681\n",
      "Tišnov                    587\n",
      "Rokytnice nad Jizerou     284\n",
      "Jablunkov                 176\n",
      "Dolní Věstonice           215\n",
      "Moje okolí                 60\n",
      "dtype: int64\n"
     ]
    },
    {
     "data": {
      "text/plain": [
       "array([[510, 324, 302, 257, 147,  66,  87,   3],\n",
       "       [352, 284, 185, 178,  87,  58,  65,  24],\n",
       "       [257, 178, 124,  78,  44,  33,  31,  18],\n",
       "       [208, 129,  70,  74,   6,  19,  32,  15]])"
      ]
     },
     "metadata": {},
     "output_type": "display_data"
    }
   ],
   "source": [
    "import scipy.stats as sp\n",
    "import numpy as np \n",
    "import pandas as pd\n",
    "\n",
    "misto = [\"Praha\", \"Brno\", \"Znojmo\", \"Tišnov\", \"Rokytnice nad Jizerou\", \"Jablunkov\", \"Dolní Věstonice\", \"Moje okolí\"]\n",
    "odpoved = [\"Zimní čas\", \"Letní čas\", \"Střídání časů\", \"Nemá názor\"]\n",
    "\n",
    "zimni_cas = np.array([510, 324, 302, 257, 147, 66, 87, 3])\n",
    "letni_cas = np.array([352, 284, 185, 178, 87, 58, 65, 24])\n",
    "stridani = np.array([257, 178, 124, 78, 44, 33, 31, 18])\n",
    "nema_nazor = np.array([208, 129, 70, 74, 6, 19, 32, 15])\n",
    "\n",
    "\n",
    "data =  np.array([zimni_cas, letni_cas, stridani, nema_nazor])\n",
    "\n",
    "df = pd.DataFrame(data, columns=misto, index=odpoved)\n",
    "\n",
    "moje_okoli = df['Moje okolí']\n",
    "vetsi_mesta = df['Praha'] + df['Brno']\n",
    "mensi_mesta = df['Znojmo'] + df['Tišnov']\n",
    "obce = df['Rokytnice nad Jizerou'] + df['Jablunkov'] + df['Dolní Věstonice']\n",
    "\n",
    "display(df)\n",
    "\n",
    "# Celkovy pocet respondentu\n",
    "n = df.sum().sum()\n",
    "print('Počet respondentů: ', end='')\n",
    "print(n)\n",
    "\n",
    "\n",
    "# Sumy řádků\n",
    "row_sums = df.sum(axis=1)\n",
    "print('\\nSumy řádků: ')\n",
    "print(row_sums)\n",
    "\n",
    "# Sumy sloupců\n",
    "column_sum = df.sum(axis=0)\n",
    "print('\\nSumy sloupců: ')\n",
    "print(column_sum)\n",
    "\n",
    "display(data)\n"
   ]
  },
  {
   "cell_type": "code",
   "execution_count": 41,
   "metadata": {},
   "outputs": [
    {
     "name": "stdout",
     "output_type": "stream",
     "text": [
      "Teoreticka cetnost:\n"
     ]
    },
    {
     "data": {
      "text/plain": [
       "Praha                    530.174794\n",
       "Brno                     365.568905\n",
       "Znojmo                   272.079152\n",
       "Tišnov                   234.523439\n",
       "Rokytnice nad Jizerou    113.466196\n",
       "Jablunkov                 70.317079\n",
       "Dolní Věstonice           85.898704\n",
       "Moje okolí                23.971731\n",
       "dtype: float64"
      ]
     },
     "metadata": {},
     "output_type": "display_data"
    },
    {
     "name": "stdout",
     "output_type": "stream",
     "text": [
      "Testovací kritérium: 39.47600765833067\n",
      "Doplněk kritického oboru = (0,  12.591587243743977 )\n",
      "\n",
      "Testovací kritérium ∉ doplňku kritického oboru => Hypotézu zamítáme\n"
     ]
    }
   ],
   "source": [
    "# Úkol 1\n",
    "# Část a)\n",
    "\n",
    "# Teoreticka cetnost\n",
    "zimni_cas_teor = (row_sums['Zimní čas']/n) * column_sum\n",
    "\n",
    "print('Teoreticka cetnost:')\n",
    "display(zimni_cas_teor)\n",
    "\n",
    "# Testovaci kriterium\n",
    "test = np.sum((zimni_cas - zimni_cas_teor) **2/zimni_cas_teor)\n",
    "print('Testovací kritérium:', test)\n",
    "\n",
    "k = len(zimni_cas)\n",
    "chi = sp.chi2.ppf(0.95, k - 1 - 1)\n",
    "\n",
    "print('Doplněk kritického oboru = (0, ' , chi , ')')\n",
    "print('\\nTestovací kritérium ∉ doplňku kritického oboru => Hypotézu zamítáme')\n"
   ]
  },
  {
   "cell_type": "code",
   "execution_count": 42,
   "metadata": {},
   "outputs": [
    {
     "name": "stdout",
     "output_type": "stream",
     "text": [
      "Teoreticka cetnost:\n"
     ]
    },
    {
     "data": {
      "text/plain": [
       "Praha                    385.439576\n",
       "Brno                     265.770318\n",
       "Znojmo                   197.802827\n",
       "Tišnov                   170.499647\n",
       "Rokytnice nad Jizerou     82.490459\n",
       "Jablunkov                 51.120848\n",
       "Dolní Věstonice           62.448763\n",
       "Moje okolí                17.427562\n",
       "dtype: float64"
      ]
     },
     "metadata": {},
     "output_type": "display_data"
    },
    {
     "name": "stdout",
     "output_type": "stream",
     "text": [
      "Testovací kritérium: 9.065245256885252\n",
      "Doplněk kritického oboru = (0,  12.591587243743977 )\n",
      "\n",
      "Testovací kritérium ∈ doplňku kritického oboru => Hypotézu nezamítáme\n"
     ]
    }
   ],
   "source": [
    "# Úkol 1\n",
    "# Část b)\n",
    "\n",
    "# Teoreticka cetnost\n",
    "letni_cas_teor = (row_sums['Letní čas']/n) * column_sum\n",
    "\n",
    "print('Teoreticka cetnost:')\n",
    "display(letni_cas_teor)\n",
    "\n",
    "# Testovaci kriterium\n",
    "test = np.sum((letni_cas - letni_cas_teor) **2/letni_cas_teor)\n",
    "print('Testovací kritérium:', test)\n",
    "\n",
    "k = len(letni_cas)\n",
    "chi = sp.chi2.ppf(0.95, k - 1 - 1)\n",
    "\n",
    "\n",
    "print('Doplněk kritického oboru = (0, ' , chi , ')')\n",
    "print('\\nTestovací kritérium ∈ doplňku kritického oboru => Hypotézu nezamítáme')"
   ]
  },
  {
   "cell_type": "code",
   "execution_count": 43,
   "metadata": {},
   "outputs": [
    {
     "name": "stdout",
     "output_type": "stream",
     "text": [
      "Teoreticka cetnost:\n"
     ]
    },
    {
     "data": {
      "text/plain": [
       "Praha                    238.516137\n",
       "Brno                     164.462898\n",
       "Znojmo                   122.403534\n",
       "Tišnov                   105.507892\n",
       "Rokytnice nad Jizerou     51.046408\n",
       "Jablunkov                 31.634393\n",
       "Dolní Věstonice           38.644287\n",
       "Moje okolí                10.784452\n",
       "dtype: float64"
      ]
     },
     "metadata": {},
     "output_type": "display_data"
    },
    {
     "name": "stdout",
     "output_type": "stream",
     "text": [
      "Testovací kritérium: 17.110773320956582\n",
      "Doplněk kritického oboru = (0,  12.591587243743977 )\n",
      "\n",
      "Testovací kritérium ∉ doplňku kritického oboru => Hypotézu zamítáme\n"
     ]
    }
   ],
   "source": [
    "# Úkol 1\n",
    "# Část c)\n",
    "\n",
    "# Teoreticka cetnost\n",
    "stridani_teor = (row_sums['Střídání časů']/n) * column_sum\n",
    "\n",
    "print('Teoreticka cetnost:')\n",
    "display(stridani_teor)\n",
    "\n",
    "# Testovaci kriterium\n",
    "test = np.sum((stridani - stridani_teor) **2/stridani_teor)\n",
    "print('Testovací kritérium:', test)\n",
    "\n",
    "k = len(stridani)\n",
    "chi = sp.chi2.ppf(0.95, k - 1 - 1)\n",
    "\n",
    "\n",
    "print('Doplněk kritického oboru = (0, ' , chi , ')')\n",
    "print('\\nTestovací kritérium ∉ doplňku kritického oboru => Hypotézu zamítáme')"
   ]
  },
  {
   "cell_type": "code",
   "execution_count": 44,
   "metadata": {},
   "outputs": [
    {
     "data": {
      "text/html": [
       "<div>\n",
       "<style scoped>\n",
       "    .dataframe tbody tr th:only-of-type {\n",
       "        vertical-align: middle;\n",
       "    }\n",
       "\n",
       "    .dataframe tbody tr th {\n",
       "        vertical-align: top;\n",
       "    }\n",
       "\n",
       "    .dataframe thead th {\n",
       "        text-align: right;\n",
       "    }\n",
       "</style>\n",
       "<table border=\"1\" class=\"dataframe\">\n",
       "  <thead>\n",
       "    <tr style=\"text-align: right;\">\n",
       "      <th></th>\n",
       "      <th>Větší města</th>\n",
       "      <th>Menší města</th>\n",
       "      <th>Obce</th>\n",
       "    </tr>\n",
       "  </thead>\n",
       "  <tbody>\n",
       "    <tr>\n",
       "      <th>Zimní čas</th>\n",
       "      <td>834</td>\n",
       "      <td>559</td>\n",
       "      <td>300</td>\n",
       "    </tr>\n",
       "    <tr>\n",
       "      <th>Letní čas</th>\n",
       "      <td>636</td>\n",
       "      <td>363</td>\n",
       "      <td>210</td>\n",
       "    </tr>\n",
       "    <tr>\n",
       "      <th>Střídání časů</th>\n",
       "      <td>435</td>\n",
       "      <td>202</td>\n",
       "      <td>108</td>\n",
       "    </tr>\n",
       "    <tr>\n",
       "      <th>Nemá názor</th>\n",
       "      <td>337</td>\n",
       "      <td>144</td>\n",
       "      <td>57</td>\n",
       "    </tr>\n",
       "  </tbody>\n",
       "</table>\n",
       "</div>"
      ],
      "text/plain": [
       "               Větší města  Menší města  Obce\n",
       "Zimní čas              834          559   300\n",
       "Letní čas              636          363   210\n",
       "Střídání časů          435          202   108\n",
       "Nemá názor             337          144    57"
      ]
     },
     "metadata": {},
     "output_type": "display_data"
    },
    {
     "name": "stdout",
     "output_type": "stream",
     "text": [
      "Počet respondentů: 4185\n",
      "\n",
      "Sumy řádků: \n",
      "Zimní čas        1693\n",
      "Letní čas        1209\n",
      "Střídání časů     745\n",
      "Nemá názor        538\n",
      "dtype: int64\n",
      "\n",
      "Sumy sloupců: \n",
      "Větší města    2242\n",
      "Menší města    1268\n",
      "Obce            675\n",
      "dtype: int64\n"
     ]
    }
   ],
   "source": [
    "# Úkol 1\n",
    "# Část d)\n",
    "\n",
    "misto = [\"Praha\", \"Brno\", \"Znojmo\", \"Tišnov\", \"Rokytnice nad Jizerou\", \"Jablunkov\", \"Dolní Věstonice\", \"Moje okolí\"]\n",
    "odpoved = [\"Zimní čas\", \"Letní čas\", \"Střídání časů\", \"Nemá názor\"]\n",
    "\n",
    "data_merged =  np.array([vetsi_mesta, mensi_mesta, obce]).T\n",
    "\n",
    "df_merged = pd.DataFrame(data_merged, columns=['Větší města', 'Menší města', 'Obce'], index=odpoved)\n",
    "\n",
    "display(df_merged)\n",
    "\n",
    "# Celkovy pocet respondentu\n",
    "n_merged = df_merged.sum().sum()\n",
    "print('Počet respondentů: ', end='')\n",
    "print(n_merged)\n",
    "\n",
    "\n",
    "# Sumy řádků\n",
    "row_sums_merged = df_merged.sum(axis=1)\n",
    "print('\\nSumy řádků: ')\n",
    "print(row_sums_merged)\n",
    "\n",
    "# Sumy sloupců\n",
    "column_sum_merged = df_merged.sum(axis=0)\n",
    "print('\\nSumy sloupců: ')\n",
    "print(column_sum_merged)\n"
   ]
  },
  {
   "cell_type": "code",
   "execution_count": 45,
   "metadata": {},
   "outputs": [
    {
     "name": "stdout",
     "output_type": "stream",
     "text": [
      "Teoreticka cetnost:\n"
     ]
    },
    {
     "data": {
      "text/plain": [
       "Větší města    906.978734\n",
       "Menší města    512.956750\n",
       "Obce           273.064516\n",
       "dtype: float64"
      ]
     },
     "metadata": {},
     "output_type": "display_data"
    },
    {
     "name": "stdout",
     "output_type": "stream",
     "text": [
      "\n",
      "Testovací kritérium: 12.661948651569508\n",
      "Doplněk kritického oboru = (0,  3.841458820694124 )\n",
      "\n",
      "Testovací kritérium ∉ doplňku kritického oboru => Hypotézu zamítáme\n"
     ]
    }
   ],
   "source": [
    "# Teoreticka cetnost\n",
    "zimni_cas_teor = (row_sums_merged['Zimní čas']/n_merged) * column_sum_merged\n",
    "\n",
    "print('Teoreticka cetnost:')\n",
    "display(zimni_cas_teor)\n",
    "\n",
    "\n",
    "# Testovaci kriterium\n",
    "test = np.sum((df_merged.loc['Zimní čas'] - zimni_cas_teor) **2/zimni_cas_teor)\n",
    "print('\\nTestovací kritérium:', test)\n",
    "\n",
    "k = len(df_merged.loc['Zimní čas'])\n",
    "chi = sp.chi2.ppf(0.95, k - 1 - 1)\n",
    "\n",
    "print('Doplněk kritického oboru = (0, ' , chi , ')')\n",
    "print('\\nTestovací kritérium ∉ doplňku kritického oboru => Hypotézu zamítáme')"
   ]
  },
  {
   "cell_type": "code",
   "execution_count": 46,
   "metadata": {},
   "outputs": [
    {
     "name": "stdout",
     "output_type": "stream",
     "text": [
      "Teoreticka cetnost:\n"
     ]
    },
    {
     "data": {
      "text/plain": [
       "Větší města    288.218877\n",
       "Menší města    163.006930\n",
       "Obce            86.774194\n",
       "dtype: float64"
      ]
     },
     "metadata": {},
     "output_type": "display_data"
    },
    {
     "name": "stdout",
     "output_type": "stream",
     "text": [
      "\n",
      "Testovací kritérium: 20.688664757394136\n",
      "Doplněk kritického oboru = (0,  3.841458820694124 )\n",
      "\n",
      "Testovací kritérium ∉ doplňku kritického oboru => Hypotézu zamítáme\n"
     ]
    }
   ],
   "source": [
    "# Úkol 1\n",
    "# Část e)\n",
    "\n",
    "# Teoreticka cetnost\n",
    "nerozhodni_teor = (row_sums_merged['Nemá názor']/n_merged) * column_sum_merged\n",
    "\n",
    "print('Teoreticka cetnost:')\n",
    "display(nerozhodni_teor)\n",
    "\n",
    "\n",
    "# Testovaci kriterium\n",
    "test = np.sum((df_merged.loc['Nemá názor'] - nerozhodni_teor) **2/nerozhodni_teor)\n",
    "print('\\nTestovací kritérium:', test)\n",
    "\n",
    "k = len(df_merged.loc['Nemá názor'])\n",
    "chi = sp.chi2.ppf(0.95, k - 1 - 1)\n",
    "\n",
    "print('Doplněk kritického oboru = (0, ' , chi , ')')\n",
    "print('\\nTestovací kritérium ∉ doplňku kritického oboru => Hypotézu zamítáme')\n"
   ]
  },
  {
   "cell_type": "code",
   "execution_count": 47,
   "metadata": {},
   "outputs": [],
   "source": [
    "# Kategoriální analýza – Test dobré shody\n",
    "def calculateCategoricalAnalysis(df, cols):\n",
    "    n = df.sum().sum()\n",
    "    \n",
    "    column_sums = df.sum(axis=0)\n",
    "    row_sums = df.sum(axis=1)\n",
    "\n",
    "    cetnost = list()\n",
    "    for row_index, row in enumerate(data):\n",
    "        cetnost.insert(row_index, [])\n",
    "        for column_index, number in enumerate(row):\n",
    "            cetnost[row_index].insert(column_index, (column_sums[column_index] * row_sums[row_index]) / n)\n",
    "\n",
    "    df = pd.DataFrame(cetnost, columns=cols, index=odpoved)\n",
    "\n",
    "    print('(row_sum * column_sum) / n : ')\n",
    "    display(df)\n",
    "\n",
    "    mezivysledek = data - cetnost\n",
    "\n",
    "    vysledek = mezivysledek**2 / cetnost\n",
    "\n",
    "    df = pd.DataFrame(vysledek, columns=cols, index=odpoved)\n",
    "\n",
    "    test = df.sum().sum()\n",
    "\n",
    "    print('Testovaci kriterium: ', test)"
   ]
  },
  {
   "cell_type": "code",
   "execution_count": 48,
   "metadata": {},
   "outputs": [
    {
     "name": "stdout",
     "output_type": "stream",
     "text": [
      "(row_sum * column_sum) / n : \n"
     ]
    },
    {
     "data": {
      "text/html": [
       "<div>\n",
       "<style scoped>\n",
       "    .dataframe tbody tr th:only-of-type {\n",
       "        vertical-align: middle;\n",
       "    }\n",
       "\n",
       "    .dataframe tbody tr th {\n",
       "        vertical-align: top;\n",
       "    }\n",
       "\n",
       "    .dataframe thead th {\n",
       "        text-align: right;\n",
       "    }\n",
       "</style>\n",
       "<table border=\"1\" class=\"dataframe\">\n",
       "  <thead>\n",
       "    <tr style=\"text-align: right;\">\n",
       "      <th></th>\n",
       "      <th>Větší města</th>\n",
       "      <th>Moje okolí</th>\n",
       "    </tr>\n",
       "  </thead>\n",
       "  <tbody>\n",
       "    <tr>\n",
       "      <th>Zimní čas</th>\n",
       "      <td>815.184188</td>\n",
       "      <td>21.815812</td>\n",
       "    </tr>\n",
       "    <tr>\n",
       "      <th>Letní čas</th>\n",
       "      <td>642.797567</td>\n",
       "      <td>17.202433</td>\n",
       "    </tr>\n",
       "    <tr>\n",
       "      <th>Střídání časů</th>\n",
       "      <td>441.192876</td>\n",
       "      <td>11.807124</td>\n",
       "    </tr>\n",
       "    <tr>\n",
       "      <th>Nemá názor</th>\n",
       "      <td>342.825369</td>\n",
       "      <td>9.174631</td>\n",
       "    </tr>\n",
       "  </tbody>\n",
       "</table>\n",
       "</div>"
      ],
      "text/plain": [
       "               Větší města  Moje okolí\n",
       "Zimní čas       815.184188   21.815812\n",
       "Letní čas       642.797567   17.202433\n",
       "Střídání časů   441.192876   11.807124\n",
       "Nemá názor      342.825369    9.174631"
      ]
     },
     "metadata": {},
     "output_type": "display_data"
    },
    {
     "name": "stdout",
     "output_type": "stream",
     "text": [
      "Testovaci kriterium:  26.553486315241503\n"
     ]
    }
   ],
   "source": [
    "# Korelace s většími městy\n",
    "data =  np.transpose(np.array([vetsi_mesta, moje_okoli]))\n",
    "cols = ['Větší města', 'Moje okolí']\n",
    "\n",
    "df_vetsi = pd.DataFrame(data, columns=cols, index=odpoved)\n",
    "\n",
    "calculateCategoricalAnalysis(df_vetsi, cols)"
   ]
  },
  {
   "cell_type": "code",
   "execution_count": 49,
   "metadata": {},
   "outputs": [
    {
     "name": "stdout",
     "output_type": "stream",
     "text": [
      "(row_sum * column_sum) / n : \n"
     ]
    },
    {
     "data": {
      "text/html": [
       "<div>\n",
       "<style scoped>\n",
       "    .dataframe tbody tr th:only-of-type {\n",
       "        vertical-align: middle;\n",
       "    }\n",
       "\n",
       "    .dataframe tbody tr th {\n",
       "        vertical-align: top;\n",
       "    }\n",
       "\n",
       "    .dataframe thead th {\n",
       "        text-align: right;\n",
       "    }\n",
       "</style>\n",
       "<table border=\"1\" class=\"dataframe\">\n",
       "  <thead>\n",
       "    <tr style=\"text-align: right;\">\n",
       "      <th></th>\n",
       "      <th>Menší města</th>\n",
       "      <th>Moje okolí</th>\n",
       "    </tr>\n",
       "  </thead>\n",
       "  <tbody>\n",
       "    <tr>\n",
       "      <th>Zimní čas</th>\n",
       "      <td>536.608434</td>\n",
       "      <td>25.391566</td>\n",
       "    </tr>\n",
       "    <tr>\n",
       "      <th>Letní čas</th>\n",
       "      <td>369.515060</td>\n",
       "      <td>17.484940</td>\n",
       "    </tr>\n",
       "    <tr>\n",
       "      <th>Střídání časů</th>\n",
       "      <td>210.060241</td>\n",
       "      <td>9.939759</td>\n",
       "    </tr>\n",
       "    <tr>\n",
       "      <th>Nemá názor</th>\n",
       "      <td>151.816265</td>\n",
       "      <td>7.183735</td>\n",
       "    </tr>\n",
       "  </tbody>\n",
       "</table>\n",
       "</div>"
      ],
      "text/plain": [
       "               Menší města  Moje okolí\n",
       "Zimní čas       536.608434   25.391566\n",
       "Letní čas       369.515060   17.484940\n",
       "Střídání časů   210.060241    9.939759\n",
       "Nemá názor      151.816265    7.183735"
      ]
     },
     "metadata": {},
     "output_type": "display_data"
    },
    {
     "name": "stdout",
     "output_type": "stream",
     "text": [
      "Testovaci kriterium:  38.97512681513424\n"
     ]
    }
   ],
   "source": [
    "# Korelace s menšími městy\n",
    "data =  np.transpose(np.array([mensi_mesta, moje_okoli]))\n",
    "cols = ['Menší města', 'Moje okolí']\n",
    "\n",
    "df_vetsi = pd.DataFrame(data, columns=cols, index=odpoved)\n",
    "\n",
    "calculateCategoricalAnalysis(df_vetsi, cols)"
   ]
  },
  {
   "cell_type": "code",
   "execution_count": 50,
   "metadata": {},
   "outputs": [
    {
     "name": "stdout",
     "output_type": "stream",
     "text": [
      "(row_sum * column_sum) / n : \n"
     ]
    },
    {
     "data": {
      "text/html": [
       "<div>\n",
       "<style scoped>\n",
       "    .dataframe tbody tr th:only-of-type {\n",
       "        vertical-align: middle;\n",
       "    }\n",
       "\n",
       "    .dataframe tbody tr th {\n",
       "        vertical-align: top;\n",
       "    }\n",
       "\n",
       "    .dataframe thead th {\n",
       "        text-align: right;\n",
       "    }\n",
       "</style>\n",
       "<table border=\"1\" class=\"dataframe\">\n",
       "  <thead>\n",
       "    <tr style=\"text-align: right;\">\n",
       "      <th></th>\n",
       "      <th>Obce</th>\n",
       "      <th>Moje okolí</th>\n",
       "    </tr>\n",
       "  </thead>\n",
       "  <tbody>\n",
       "    <tr>\n",
       "      <th>Zimní čas</th>\n",
       "      <td>278.265306</td>\n",
       "      <td>24.734694</td>\n",
       "    </tr>\n",
       "    <tr>\n",
       "      <th>Letní čas</th>\n",
       "      <td>214.897959</td>\n",
       "      <td>19.102041</td>\n",
       "    </tr>\n",
       "    <tr>\n",
       "      <th>Střídání časů</th>\n",
       "      <td>115.714286</td>\n",
       "      <td>10.285714</td>\n",
       "    </tr>\n",
       "    <tr>\n",
       "      <th>Nemá názor</th>\n",
       "      <td>66.122449</td>\n",
       "      <td>5.877551</td>\n",
       "    </tr>\n",
       "  </tbody>\n",
       "</table>\n",
       "</div>"
      ],
      "text/plain": [
       "                     Obce  Moje okolí\n",
       "Zimní čas      278.265306   24.734694\n",
       "Letní čas      214.897959   19.102041\n",
       "Střídání časů  115.714286   10.285714\n",
       "Nemá názor      66.122449    5.877551"
      ]
     },
     "metadata": {},
     "output_type": "display_data"
    },
    {
     "name": "stdout",
     "output_type": "stream",
     "text": [
      "Testovaci kriterium:  43.88108709909453\n"
     ]
    }
   ],
   "source": [
    "# Korelace s obcemi\n",
    "data =  np.transpose(np.array([obce, moje_okoli]))\n",
    "cols = ['Obce', 'Moje okolí']\n",
    "\n",
    "df_vetsi = pd.DataFrame(data, columns=cols, index=odpoved)\n",
    "\n",
    "calculateCategoricalAnalysis(df_vetsi, cols)"
   ]
  },
  {
   "attachments": {},
   "cell_type": "markdown",
   "metadata": {},
   "source": [
    "Nejvyšší testovací kritérium vyšlo u obcí, což znamená, že data z mého okolí nejvíce odpovídají datům z obcí, což odpovídá i realitě, jelikož jsem průzkum prováděl v menší obci."
   ]
  }
 ],
 "metadata": {
  "kernelspec": {
   "display_name": "Python 3.10.6 64-bit",
   "language": "python",
   "name": "python3"
  },
  "language_info": {
   "codemirror_mode": {
    "name": "ipython",
    "version": 3
   },
   "file_extension": ".py",
   "mimetype": "text/x-python",
   "name": "python",
   "nbconvert_exporter": "python",
   "pygments_lexer": "ipython3",
   "version": "3.10.6"
  },
  "orig_nbformat": 4,
  "vscode": {
   "interpreter": {
    "hash": "916dbcbb3f70747c44a77c7bcd40155683ae19c65e1c03b4aa3499c5328201f1"
   }
  }
 },
 "nbformat": 4,
 "nbformat_minor": 2
}
