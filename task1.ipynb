{
 "cells": [
  {
   "cell_type": "code",
   "execution_count": 13,
   "metadata": {},
   "outputs": [
    {
     "data": {
      "text/html": [
       "<div>\n",
       "<style scoped>\n",
       "    .dataframe tbody tr th:only-of-type {\n",
       "        vertical-align: middle;\n",
       "    }\n",
       "\n",
       "    .dataframe tbody tr th {\n",
       "        vertical-align: top;\n",
       "    }\n",
       "\n",
       "    .dataframe thead th {\n",
       "        text-align: right;\n",
       "    }\n",
       "</style>\n",
       "<table border=\"1\" class=\"dataframe\">\n",
       "  <thead>\n",
       "    <tr style=\"text-align: right;\">\n",
       "      <th></th>\n",
       "      <th>Praha</th>\n",
       "      <th>Brno</th>\n",
       "      <th>Znojmo</th>\n",
       "      <th>Tišnov</th>\n",
       "      <th>Rokytnice nad Jizerou</th>\n",
       "      <th>Jablunkov</th>\n",
       "      <th>Dolní Věstonice</th>\n",
       "      <th>Moje okolí</th>\n",
       "    </tr>\n",
       "  </thead>\n",
       "  <tbody>\n",
       "    <tr>\n",
       "      <th>Zimní čas</th>\n",
       "      <td>510</td>\n",
       "      <td>324</td>\n",
       "      <td>302</td>\n",
       "      <td>257</td>\n",
       "      <td>147</td>\n",
       "      <td>66</td>\n",
       "      <td>87</td>\n",
       "      <td>1</td>\n",
       "    </tr>\n",
       "    <tr>\n",
       "      <th>Letní čas</th>\n",
       "      <td>352</td>\n",
       "      <td>284</td>\n",
       "      <td>185</td>\n",
       "      <td>178</td>\n",
       "      <td>87</td>\n",
       "      <td>58</td>\n",
       "      <td>65</td>\n",
       "      <td>6</td>\n",
       "    </tr>\n",
       "    <tr>\n",
       "      <th>Střídání časů</th>\n",
       "      <td>257</td>\n",
       "      <td>178</td>\n",
       "      <td>124</td>\n",
       "      <td>78</td>\n",
       "      <td>44</td>\n",
       "      <td>33</td>\n",
       "      <td>31</td>\n",
       "      <td>8</td>\n",
       "    </tr>\n",
       "    <tr>\n",
       "      <th>Nemá názor</th>\n",
       "      <td>208</td>\n",
       "      <td>129</td>\n",
       "      <td>70</td>\n",
       "      <td>74</td>\n",
       "      <td>6</td>\n",
       "      <td>19</td>\n",
       "      <td>32</td>\n",
       "      <td>5</td>\n",
       "    </tr>\n",
       "  </tbody>\n",
       "</table>\n",
       "</div>"
      ],
      "text/plain": [
       "               Praha  Brno  Znojmo  Tišnov  Rokytnice nad Jizerou  Jablunkov  \\\n",
       "Zimní čas        510   324     302     257                    147         66   \n",
       "Letní čas        352   284     185     178                     87         58   \n",
       "Střídání časů    257   178     124      78                     44         33   \n",
       "Nemá názor       208   129      70      74                      6         19   \n",
       "\n",
       "               Dolní Věstonice  Moje okolí  \n",
       "Zimní čas                   87           1  \n",
       "Letní čas                   65           6  \n",
       "Střídání časů               31           8  \n",
       "Nemá názor                  32           5  "
      ]
     },
     "metadata": {},
     "output_type": "display_data"
    },
    {
     "name": "stdout",
     "output_type": "stream",
     "text": [
      "Počet respondentů: 4205\n",
      "\n",
      "Sumy řádků: \n",
      "Zimní čas        1694\n",
      "Letní čas        1215\n",
      "Střídání časů     753\n",
      "Nemá názor        543\n",
      "dtype: int64\n",
      "\n",
      "Sumy sloupců: \n",
      "Praha                    1327\n",
      "Brno                      915\n",
      "Znojmo                    681\n",
      "Tišnov                    587\n",
      "Rokytnice nad Jizerou     284\n",
      "Jablunkov                 176\n",
      "Dolní Věstonice           215\n",
      "Moje okolí                 20\n",
      "dtype: int64\n"
     ]
    }
   ],
   "source": [
    "import scipy.stats as sp\n",
    "import numpy as np \n",
    "import pandas as pd\n",
    "\n",
    "misto = [\"Praha\", \"Brno\", \"Znojmo\", \"Tišnov\", \"Rokytnice nad Jizerou\", \"Jablunkov\", \"Dolní Věstonice\", \"Moje okolí\"]\n",
    "odpoved = [\"Zimní čas\", \"Letní čas\", \"Střídání časů\", \"Nemá názor\"]\n",
    "\n",
    "zimni_cas = np.array([510, 324, 302, 257, 147, 66, 87, 1])\n",
    "letni_cas = np.array([352, 284, 185, 178, 87, 58, 65, 6])\n",
    "stridani = np.array([257, 178, 124, 78, 44, 33, 31, 8])\n",
    "nema_nazor = np.array([208, 129, 70, 74, 6, 19, 32, 5])\n",
    "\n",
    "data =  np.array([zimni_cas, letni_cas, stridani, nema_nazor])\n",
    "\n",
    "df = pd.DataFrame(data, columns=misto, index=odpoved)\n",
    "\n",
    "display(df)\n",
    "\n",
    "# Celkovy pocet respondentu\n",
    "n = df.sum().sum()\n",
    "print('Počet respondentů: ', end='')\n",
    "print(n)\n",
    "\n",
    "\n",
    "# Sumy řádků\n",
    "row_sums = df.sum(axis=1)\n",
    "print('\\nSumy řádků: ')\n",
    "print(row_sums)\n",
    "\n",
    "# Sumy sloupců\n",
    "column_sum = df.sum(axis=0)\n",
    "print('\\nSumy sloupců: ')\n",
    "print(column_sum)\n"
   ]
  },
  {
   "cell_type": "code",
   "execution_count": 14,
   "metadata": {},
   "outputs": [
    {
     "name": "stdout",
     "output_type": "stream",
     "text": [
      "Testovací kritérium: 26.90430881205663\n",
      "Doplněk kritického oboru = (0,  12.591587243743977 )\n",
      "\n",
      "Testovací kritérium ∉ doplňku kritického oboru => Hypotézu zamítáme\n"
     ]
    }
   ],
   "source": [
    "# Úkol 1\n",
    "# Část a)\n",
    "\n",
    "# Teoreticka cetnost\n",
    "zimni_cas_teor = (row_sums['Zimní čas']/n) * column_sum\n",
    "\n",
    "# Testovaci kriterium\n",
    "test = np.sum((zimni_cas - zimni_cas_teor) **2/zimni_cas_teor)\n",
    "print('Testovací kritérium:', test)\n",
    "\n",
    "k = len(zimni_cas)\n",
    "chi = sp.chi2.ppf(0.95, k - 1 - 1)\n",
    "\n",
    "print('Doplněk kritického oboru = (0, ' , chi , ')')\n",
    "print('\\nTestovací kritérium ∉ doplňku kritického oboru => Hypotézu zamítáme')"
   ]
  },
  {
   "cell_type": "code",
   "execution_count": 15,
   "metadata": {},
   "outputs": [
    {
     "name": "stdout",
     "output_type": "stream",
     "text": [
      "Testovací kritérium: 6.593965560899951\n",
      "Doplněk kritického oboru = (0,  12.591587243743977 )\n",
      "\n",
      "Testovací kritérium ∈ doplňku kritického oboru => Hypotézu nezamítáme\n"
     ]
    }
   ],
   "source": [
    "# Úkol 1\n",
    "# Část b)\n",
    "\n",
    "# Teoreticka cetnost\n",
    "letni_cas_teor = (row_sums['Letní čas']/n) * column_sum\n",
    "\n",
    "# Testovaci kriterium\n",
    "test = np.sum((letni_cas - letni_cas_teor) **2/letni_cas_teor)\n",
    "print('Testovací kritérium:', test)\n",
    "\n",
    "k = len(letni_cas)\n",
    "chi = sp.chi2.ppf(0.95, k - 1 - 1)\n",
    "\n",
    "print('Doplněk kritického oboru = (0, ' , chi , ')')\n",
    "print('\\nTestovací kritérium ∈ doplňku kritického oboru => Hypotézu nezamítáme')"
   ]
  },
  {
   "cell_type": "code",
   "execution_count": 16,
   "metadata": {},
   "outputs": [
    {
     "name": "stdout",
     "output_type": "stream",
     "text": [
      "Testovací kritérium: 17.736797383550027\n",
      "Doplněk kritického oboru = (0,  12.591587243743977 )\n",
      "\n",
      "Testovací kritérium ∉ doplňku kritického oboru => Hypotézu zamítáme\n"
     ]
    }
   ],
   "source": [
    "# Úkol 1\n",
    "# Část c)\n",
    "\n",
    "# Teoreticka cetnost\n",
    "stridani_teor = (row_sums['Střídání časů']/n) * column_sum\n",
    "\n",
    "# Testovaci kriterium\n",
    "test = np.sum((stridani - stridani_teor) **2/stridani_teor)\n",
    "print('Testovací kritérium:', test)\n",
    "\n",
    "k = len(stridani)\n",
    "chi = sp.chi2.ppf(0.95, k - 1 - 1)\n",
    "\n",
    "\n",
    "print('Doplněk kritického oboru = (0, ' , chi , ')')\n",
    "print('\\nTestovací kritérium ∉ doplňku kritického oboru => Hypotézu zamítáme')"
   ]
  },
  {
   "cell_type": "code",
   "execution_count": 17,
   "metadata": {},
   "outputs": [
    {
     "data": {
      "text/html": [
       "<div>\n",
       "<style scoped>\n",
       "    .dataframe tbody tr th:only-of-type {\n",
       "        vertical-align: middle;\n",
       "    }\n",
       "\n",
       "    .dataframe tbody tr th {\n",
       "        vertical-align: top;\n",
       "    }\n",
       "\n",
       "    .dataframe thead th {\n",
       "        text-align: right;\n",
       "    }\n",
       "</style>\n",
       "<table border=\"1\" class=\"dataframe\">\n",
       "  <thead>\n",
       "    <tr style=\"text-align: right;\">\n",
       "      <th></th>\n",
       "      <th>Větší města</th>\n",
       "      <th>Menší města</th>\n",
       "      <th>Obce</th>\n",
       "    </tr>\n",
       "  </thead>\n",
       "  <tbody>\n",
       "    <tr>\n",
       "      <th>Zimní čas</th>\n",
       "      <td>834</td>\n",
       "      <td>559</td>\n",
       "      <td>300</td>\n",
       "    </tr>\n",
       "    <tr>\n",
       "      <th>Letní čas</th>\n",
       "      <td>636</td>\n",
       "      <td>363</td>\n",
       "      <td>210</td>\n",
       "    </tr>\n",
       "    <tr>\n",
       "      <th>Střídání časů</th>\n",
       "      <td>435</td>\n",
       "      <td>202</td>\n",
       "      <td>108</td>\n",
       "    </tr>\n",
       "    <tr>\n",
       "      <th>Nemá názor</th>\n",
       "      <td>337</td>\n",
       "      <td>144</td>\n",
       "      <td>57</td>\n",
       "    </tr>\n",
       "  </tbody>\n",
       "</table>\n",
       "</div>"
      ],
      "text/plain": [
       "               Větší města  Menší města  Obce\n",
       "Zimní čas              834          559   300\n",
       "Letní čas              636          363   210\n",
       "Střídání časů          435          202   108\n",
       "Nemá názor             337          144    57"
      ]
     },
     "metadata": {},
     "output_type": "display_data"
    },
    {
     "name": "stdout",
     "output_type": "stream",
     "text": [
      "Počet respondentů: 4185\n",
      "\n",
      "Sumy řádků: \n",
      "Zimní čas        1693\n",
      "Letní čas        1209\n",
      "Střídání časů     745\n",
      "Nemá názor        538\n",
      "dtype: int64\n",
      "\n",
      "Sumy sloupců: \n",
      "Větší města    2242\n",
      "Menší města    1268\n",
      "Obce            675\n",
      "dtype: int64\n",
      "\n",
      "Testovací kritérium: 12.661948651569508\n",
      "Doplněk kritického oboru = (0,  3.841458820694124 )\n",
      "\n",
      "Testovací kritérium ∉ doplňku kritického oboru => Hypotézu zamítáme\n"
     ]
    }
   ],
   "source": [
    "# Úkol 1\n",
    "# Část d)\n",
    "\n",
    "misto = [\"Praha\", \"Brno\", \"Znojmo\", \"Tišnov\", \"Rokytnice nad Jizerou\", \"Jablunkov\", \"Dolní Věstonice\", \"Moje okolí\"]\n",
    "odpoved = [\"Zimní čas\", \"Letní čas\", \"Střídání časů\", \"Nemá názor\"]\n",
    "\n",
    "vetsi_mesta = df['Praha'] + df['Brno']\n",
    "mensi_mesta = df['Znojmo'] + df['Tišnov']\n",
    "obce = df['Rokytnice nad Jizerou'] + df['Jablunkov'] + df['Dolní Věstonice']\n",
    "\n",
    "data_merged =  np.array([vetsi_mesta, mensi_mesta, obce]).T\n",
    "\n",
    "df_merged = pd.DataFrame(data_merged, columns=['Větší města', 'Menší města', 'Obce'], index=odpoved)\n",
    "\n",
    "display(df_merged)\n",
    "\n",
    "# Celkovy pocet respondentu\n",
    "n_merged = df_merged.sum().sum()\n",
    "print('Počet respondentů: ', end='')\n",
    "print(n_merged)\n",
    "\n",
    "\n",
    "# Sumy řádků\n",
    "row_sums_merged = df_merged.sum(axis=1)\n",
    "print('\\nSumy řádků: ')\n",
    "print(row_sums_merged)\n",
    "\n",
    "# Sumy sloupců\n",
    "column_sum_merged = df_merged.sum(axis=0)\n",
    "print('\\nSumy sloupců: ')\n",
    "print(column_sum_merged)\n",
    "\n",
    "# Teoreticka cetnost\n",
    "zimni_cas_teor = (row_sums_merged['Zimní čas']/n_merged) * column_sum_merged\n",
    "\n",
    "# Testovaci kriterium\n",
    "test = np.sum((df_merged.loc['Zimní čas'] - zimni_cas_teor) **2/zimni_cas_teor)\n",
    "print('\\nTestovací kritérium:', test)\n",
    "\n",
    "k = len(df_merged.loc['Zimní čas'])\n",
    "chi = sp.chi2.ppf(0.95, k - 1 - 1)\n",
    "\n",
    "print('Doplněk kritického oboru = (0, ' , chi , ')')\n",
    "print('\\nTestovací kritérium ∉ doplňku kritického oboru => Hypotézu zamítáme')"
   ]
  },
  {
   "cell_type": "code",
   "execution_count": 19,
   "metadata": {},
   "outputs": [
    {
     "name": "stdout",
     "output_type": "stream",
     "text": [
      "\n",
      "Testovací kritérium: 20.688664757394136\n",
      "Doplněk kritického oboru = (0,  3.841458820694124 )\n",
      "\n",
      "Testovací kritérium ∉ doplňku kritického oboru => Hypotézu zamítáme\n"
     ]
    },
    {
     "data": {
      "text/plain": [
       "Power_divergenceResult(statistic=20.688664757394136, pvalue=3.217462760178799e-05)"
      ]
     },
     "execution_count": 19,
     "metadata": {},
     "output_type": "execute_result"
    }
   ],
   "source": [
    "# Teoreticka cetnost\n",
    "nerozhodni_teor = (row_sums_merged['Nemá názor']/n_merged) * column_sum_merged\n",
    "\n",
    "# Testovaci kriterium\n",
    "test = np.sum((df_merged.loc['Nemá názor'] - nerozhodni_teor) **2/nerozhodni_teor)\n",
    "print('\\nTestovací kritérium:', test)\n",
    "\n",
    "k = len(df_merged.loc['Nemá názor'])\n",
    "chi = sp.chi2.ppf(0.95, k - 1 - 1)\n",
    "\n",
    "print('Doplněk kritického oboru = (0, ' , chi , ')')\n",
    "print('\\nTestovací kritérium ∉ doplňku kritického oboru => Hypotézu zamítáme')\n",
    "\n",
    "sp.chisquare(f_obs = df_merged.loc['Nemá názor'], f_exp = nerozhodni_teor)\n"
   ]
  }
 ],
 "metadata": {
  "kernelspec": {
   "display_name": "Python 3.10.6 64-bit",
   "language": "python",
   "name": "python3"
  },
  "language_info": {
   "codemirror_mode": {
    "name": "ipython",
    "version": 3
   },
   "file_extension": ".py",
   "mimetype": "text/x-python",
   "name": "python",
   "nbconvert_exporter": "python",
   "pygments_lexer": "ipython3",
   "version": "3.10.6"
  },
  "orig_nbformat": 4,
  "vscode": {
   "interpreter": {
    "hash": "916dbcbb3f70747c44a77c7bcd40155683ae19c65e1c03b4aa3499c5328201f1"
   }
  }
 },
 "nbformat": 4,
 "nbformat_minor": 2
}
