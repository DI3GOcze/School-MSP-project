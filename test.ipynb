{
 "cells": [
  {
   "cell_type": "code",
   "execution_count": 7,
   "metadata": {},
   "outputs": [
    {
     "data": {
      "text/plain": [
       "16.246902163643234"
      ]
     },
     "metadata": {},
     "output_type": "display_data"
    }
   ],
   "source": [
    "import scipy.stats as sp\n",
    "import numpy as np \n",
    "import pandas as pd\n",
    "\n",
    "misto = [\"ZŠ\", \"SŠ\", \"VŠ\"]\n",
    "odpoved = [\"Zimní čas\", \"Letní čas\", \"Střídání časů\", \"Nemá názor\"]\n",
    "\n",
    "data = np.array([\n",
    "    [9,6,5],\n",
    "    [15,11,7],\n",
    "    [4,14,10],\n",
    "    [4,5,13]\n",
    "])\n",
    "\n",
    "df = pd.DataFrame(data, columns=misto)\n",
    "\n",
    "# Celkovy pocet respondentu\n",
    "n = df.sum().sum()\n",
    "\n",
    "column_sums = data.sum(axis=0)\n",
    "row_sums = data.sum(axis=1)\n",
    "\n",
    "cetnost = list()\n",
    "for row_index, row in enumerate(data):\n",
    "    cetnost.insert(row_index, [])\n",
    "    for column_index, number in enumerate(row):\n",
    "        cetnost[row_index].insert(column_index, (column_sums[column_index] * row_sums[row_index]) / n)\n",
    "\n",
    "\n",
    "mezivysledek = data - cetnost\n",
    "\n",
    "vysledek = mezivysledek**2 / cetnost\n",
    "\n",
    "df = pd.DataFrame(vysledek, columns=misto)\n",
    "\n",
    "display(df.sum().sum())\n",
    "\n",
    "\n"
   ]
  }
 ],
 "metadata": {
  "kernelspec": {
   "display_name": "Python 3.10.6 64-bit",
   "language": "python",
   "name": "python3"
  },
  "language_info": {
   "codemirror_mode": {
    "name": "ipython",
    "version": 3
   },
   "file_extension": ".py",
   "mimetype": "text/x-python",
   "name": "python",
   "nbconvert_exporter": "python",
   "pygments_lexer": "ipython3",
   "version": "3.10.6"
  },
  "orig_nbformat": 4,
  "vscode": {
   "interpreter": {
    "hash": "916dbcbb3f70747c44a77c7bcd40155683ae19c65e1c03b4aa3499c5328201f1"
   }
  }
 },
 "nbformat": 4,
 "nbformat_minor": 2
}
